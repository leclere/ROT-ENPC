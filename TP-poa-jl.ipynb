{
 "cells": [
  {
   "cell_type": "code",
   "execution_count": 1,
   "metadata": {},
   "outputs": [
    {
     "name": "stdout",
     "output_type": "stream",
     "text": [
      "\u001b[32m\u001b[1m Resolving\u001b[22m\u001b[39m package versions...\n",
      "\u001b[32m\u001b[1m Installed\u001b[22m\u001b[39m MetaGraphs ─ v0.6.1\n",
      "\u001b[32m\u001b[1m  Updating\u001b[22m\u001b[39m `~/.julia/Project.toml`\n",
      " \u001b[90m [626554b9]\u001b[39m\u001b[92m + MetaGraphs v0.6.1\u001b[39m\n",
      "\u001b[32m\u001b[1m  Updating\u001b[22m\u001b[39m `~/.julia/Manifest.toml`\n",
      " \u001b[90m [ec485272]\u001b[39m\u001b[92m + ArnoldiMethod v0.0.4\u001b[39m\n",
      " \u001b[90m [944b1d66]\u001b[39m\u001b[92m + CodecZlib v0.5.0\u001b[39m\n",
      " \u001b[90m [864edb3b]\u001b[39m\u001b[92m + DataStructures v0.15.0\u001b[39m\n",
      " \u001b[90m [5789e2e9]\u001b[39m\u001b[92m + FileIO v1.0.5\u001b[39m\n",
      " \u001b[90m [d25df0c9]\u001b[39m\u001b[92m + Inflate v0.1.1\u001b[39m\n",
      " \u001b[90m [033835bb]\u001b[39m\u001b[92m + JLD2 v0.1.2\u001b[39m\n",
      " \u001b[90m [682c06a0]\u001b[39m\u001b[92m + JSON v0.20.0\u001b[39m\n",
      " \u001b[90m [093fc24a]\u001b[39m\u001b[92m + LightGraphs v1.2.0\u001b[39m\n",
      " \u001b[90m [1914dd2f]\u001b[39m\u001b[92m + MacroTools v0.4.4\u001b[39m\n",
      " \u001b[90m [626554b9]\u001b[39m\u001b[92m + MetaGraphs v0.6.1\u001b[39m\n",
      " \u001b[90m [bac558e1]\u001b[39m\u001b[92m + OrderedCollections v1.0.2\u001b[39m\n",
      " \u001b[90m [699a6c99]\u001b[39m\u001b[92m + SimpleTraits v0.8.0\u001b[39m\n",
      " \u001b[90m [90137ffa]\u001b[39m\u001b[92m + StaticArrays v0.10.2\u001b[39m\n",
      " \u001b[90m [3bb67fe8]\u001b[39m\u001b[92m + TranscodingStreams v0.8.1\u001b[39m\n",
      " \u001b[90m [2a0f44e3]\u001b[39m\u001b[92m + Base64 \u001b[39m\n",
      " \u001b[90m [b99e7846]\u001b[39m\u001b[92m + BinaryProvider \u001b[39m\n",
      " \u001b[90m [34da2185]\u001b[39m\u001b[92m + Compat \u001b[39m\n",
      " \u001b[90m [864e158e]\u001b[39m\u001b[92m + CredentialsHandler \u001b[39m\n",
      " \u001b[90m [ade2ca70]\u001b[39m\u001b[92m + Dates \u001b[39m\n",
      " \u001b[90m [8bb1440f]\u001b[39m\u001b[92m + DelimitedFiles \u001b[39m\n",
      " \u001b[90m [8ba89e20]\u001b[39m\u001b[92m + Distributed \u001b[39m\n",
      " \u001b[90m [cd3eb016]\u001b[39m\u001b[92m + HTTP \u001b[39m\n",
      " \u001b[90m [83e8ac13]\u001b[39m\u001b[92m + IniFile \u001b[39m\n",
      " \u001b[90m [b77e0a4c]\u001b[39m\u001b[92m + InteractiveUtils \u001b[39m\n",
      " \u001b[90m [76f85450]\u001b[39m\u001b[92m + LibGit2 \u001b[39m\n",
      " \u001b[90m [8f399da3]\u001b[39m\u001b[92m + Libdl \u001b[39m\n",
      " \u001b[90m [37e2e46d]\u001b[39m\u001b[92m + LinearAlgebra \u001b[39m\n",
      " \u001b[90m [56ddb016]\u001b[39m\u001b[92m + Logging \u001b[39m\n",
      " \u001b[90m [d6f4376e]\u001b[39m\u001b[92m + Markdown \u001b[39m\n",
      " \u001b[90m [739be429]\u001b[39m\u001b[92m + MbedTLS \u001b[39m\n",
      " \u001b[90m [a63ad114]\u001b[39m\u001b[92m + Mmap \u001b[39m\n",
      " \u001b[90m [44cfe95a]\u001b[39m\u001b[92m + Pkg \u001b[39m\n",
      " \u001b[90m [de0858da]\u001b[39m\u001b[92m + Printf \u001b[39m\n",
      " \u001b[90m [3fa0cd96]\u001b[39m\u001b[92m + REPL \u001b[39m\n",
      " \u001b[90m [9a3f8284]\u001b[39m\u001b[92m + Random \u001b[39m\n",
      " \u001b[90m [ea8e919c]\u001b[39m\u001b[92m + SHA \u001b[39m\n",
      " \u001b[90m [9e88b42a]\u001b[39m\u001b[92m + Serialization \u001b[39m\n",
      " \u001b[90m [1a1011a3]\u001b[39m\u001b[92m + SharedArrays \u001b[39m\n",
      " \u001b[90m [6462fe0b]\u001b[39m\u001b[92m + Sockets \u001b[39m\n",
      " \u001b[90m [2f01184e]\u001b[39m\u001b[92m + SparseArrays \u001b[39m\n",
      " \u001b[90m [10745b16]\u001b[39m\u001b[92m + Statistics \u001b[39m\n",
      " \u001b[90m [4607b0f0]\u001b[39m\u001b[92m + SuiteSparse \u001b[39m\n",
      " \u001b[90m [9d418dce]\u001b[39m\u001b[92m + TOML \u001b[39m\n",
      " \u001b[90m [8dfed614]\u001b[39m\u001b[92m + Test \u001b[39m\n",
      " \u001b[90m [cf7118a7]\u001b[39m\u001b[92m + UUIDs \u001b[39m\n",
      " \u001b[90m [4ec0a83e]\u001b[39m\u001b[92m + Unicode \u001b[39m\n",
      "\u001b[32m\u001b[1m Resolving\u001b[22m\u001b[39m package versions...\n",
      "\u001b[32m\u001b[1m  Updating\u001b[22m\u001b[39m `~/.julia/Project.toml`\n",
      " \u001b[90m [093fc24a]\u001b[39m\u001b[92m + LightGraphs v1.2.0\u001b[39m\n",
      "\u001b[32m\u001b[1m  Updating\u001b[22m\u001b[39m `~/.julia/Manifest.toml`\n",
      "\u001b[90m [no changes]\u001b[39m\n",
      "\u001b[32m\u001b[1m Resolving\u001b[22m\u001b[39m package versions...\n",
      "\u001b[32m\u001b[1m Installed\u001b[22m\u001b[39m GraphPlot ─ v0.3.1\n",
      "\u001b[32m\u001b[1m  Updating\u001b[22m\u001b[39m `~/.julia/Project.toml`\n",
      " \u001b[90m [a2cc645c]\u001b[39m\u001b[92m + GraphPlot v0.3.1\u001b[39m\n",
      "\u001b[32m\u001b[1m  Updating\u001b[22m\u001b[39m `~/.julia/Manifest.toml`\n",
      " \u001b[90m [3da002f7]\u001b[39m\u001b[92m + ColorTypes v0.7.5\u001b[39m\n",
      " \u001b[90m [5ae59095]\u001b[39m\u001b[92m + Colors v0.9.5\u001b[39m\n",
      " \u001b[90m [a81c6b42]\u001b[39m\u001b[92m + Compose v0.7.2\u001b[39m\n",
      " \u001b[90m [53c48c17]\u001b[39m\u001b[92m + FixedPointNumbers v0.5.3\u001b[39m\n",
      " \u001b[90m [a2cc645c]\u001b[39m\u001b[92m + GraphPlot v0.3.1\u001b[39m\n",
      " \u001b[90m [c8e1da08]\u001b[39m\u001b[92m + IterTools v1.1.1\u001b[39m\n",
      " \u001b[90m [442fdcdd]\u001b[39m\u001b[92m + Measures v0.3.0\u001b[39m\n",
      " \u001b[90m [189a3867]\u001b[39m\u001b[92m + Reexport v0.2.0\u001b[39m\n",
      " \u001b[90m [ae029012]\u001b[39m\u001b[92m + Requires v0.5.2\u001b[39m\n",
      "\u001b[32m\u001b[1m Resolving\u001b[22m\u001b[39m package versions...\n",
      "\u001b[32m\u001b[1m Installed\u001b[22m\u001b[39m JuMP ────────────── v0.18.5\n",
      "\u001b[32m\u001b[1m Installed\u001b[22m\u001b[39m ReverseDiffSparse ─ v0.8.6\n",
      "\u001b[32m\u001b[1m  Updating\u001b[22m\u001b[39m `~/.julia/Project.toml`\n",
      " \u001b[90m [4076af6c]\u001b[39m\u001b[92m + JuMP v0.18.5\u001b[39m\n",
      "\u001b[32m\u001b[1m  Updating\u001b[22m\u001b[39m `~/.julia/Manifest.toml`\n",
      " \u001b[90m [9e28174c]\u001b[39m\u001b[92m + BinDeps v0.8.10\u001b[39m\n",
      " \u001b[90m [49dc2e85]\u001b[39m\u001b[92m + Calculus v0.4.1\u001b[39m\n",
      " \u001b[90m [bbf7d656]\u001b[39m\u001b[92m + CommonSubexpressions v0.2.0\u001b[39m\n",
      " \u001b[90m [163ba53b]\u001b[39m\u001b[92m + DiffResults v0.0.3\u001b[39m\n",
      " \u001b[90m [b552c78f]\u001b[39m\u001b[92m + DiffRules v0.0.8\u001b[39m\n",
      " \u001b[90m [f6369f11]\u001b[39m\u001b[92m + ForwardDiff v0.10.2\u001b[39m\n",
      " \u001b[90m [4076af6c]\u001b[39m\u001b[92m + JuMP v0.18.5\u001b[39m\n",
      " \u001b[90m [fdba3010]\u001b[39m\u001b[92m + MathProgBase v0.7.7\u001b[39m\n",
      " \u001b[90m [77ba4419]\u001b[39m\u001b[92m + NaNMath v0.3.2\u001b[39m\n",
      " \u001b[90m [89212889]\u001b[39m\u001b[92m + ReverseDiffSparse v0.8.6\u001b[39m\n",
      " \u001b[90m [276daf66]\u001b[39m\u001b[92m + SpecialFunctions v0.7.0\u001b[39m\n",
      " \u001b[90m [30578b45]\u001b[39m\u001b[92m + URIParser v0.4.0\u001b[39m\n",
      "\u001b[32m\u001b[1m Resolving\u001b[22m\u001b[39m package versions...\n",
      "\u001b[32m\u001b[1m Installed\u001b[22m\u001b[39m Ipopt ──────────── v0.4.5\n",
      "\u001b[32m\u001b[1m Installed\u001b[22m\u001b[39m MathOptInterface ─ v0.8.1\n",
      "\u001b[32m\u001b[1m  Updating\u001b[22m\u001b[39m `~/.julia/Project.toml`\n",
      " \u001b[90m [b6b21f68]\u001b[39m\u001b[92m + Ipopt v0.4.5\u001b[39m\n",
      "\u001b[32m\u001b[1m  Updating\u001b[22m\u001b[39m `~/.julia/Manifest.toml`\n",
      " \u001b[90m [b6b21f68]\u001b[39m\u001b[92m + Ipopt v0.4.5\u001b[39m\n",
      " \u001b[90m [b8f27783]\u001b[39m\u001b[92m + MathOptInterface v0.8.1\u001b[39m\n",
      "\u001b[32m\u001b[1m  Building\u001b[22m\u001b[39m Ipopt → `~/.julia/packages/Ipopt/IGhO9/deps/build.log`\n"
     ]
    }
   ],
   "source": [
    "## Package to install once by running this cell before starting\n",
    "import Pkg;\n",
    "Pkg.add(\"MetaGraphs\") \n",
    "Pkg.add(\"LightGraphs\")\n",
    "Pkg.add(\"GraphPlot\")\n",
    "Pkg.add(\"JuMP\")\n",
    "Pkg.add(\"Ipopt\")"
   ]
  },
  {
   "cell_type": "code",
   "execution_count": 2,
   "metadata": {},
   "outputs": [
    {
     "name": "stderr",
     "output_type": "stream",
     "text": [
      "┌ Info: Precompiling MetaGraphs [626554b9-1ddb-594c-aa3c-2596fe9399a5]\n",
      "└ @ Base loading.jl:1192\n",
      "┌ Info: Precompiling JuMP [4076af6c-e467-56ae-b986-b466b2749572]\n",
      "└ @ Base loading.jl:1192\n",
      "┌ Info: Precompiling Ipopt [b6b21f68-93f8-5de0-b562-5493be1d77c9]\n",
      "└ @ Base loading.jl:1192\n",
      "┌ Info: Precompiling GraphPlot [a2cc645c-3eea-5389-862e-a155d0052231]\n",
      "└ @ Base loading.jl:1192\n"
     ]
    }
   ],
   "source": [
    "# Run this cell and start to work while its compiling (will take some time)\n",
    "using LightGraphs, MetaGraphs # Graph Libraries\n",
    "using JuMP, Ipopt             # Optim Libraries\n",
    "using GraphPlot, PyPlot       # Plot library"
   ]
  },
  {
   "cell_type": "markdown",
   "metadata": {},
   "source": [
    "# TP Braess Paradox and Price of Anarchy\n",
    "\n",
    "## 1 Recall on the user-equilibrium and the social-optimum\n",
    "\n",
    "Consider a (finite) directed graph $G=(V,E)$. We consider \n",
    "$K$ origin-destination vertex pair $\\{o^k,d^k\\}_{k\\in [1,K]}$. \n",
    "\n",
    "Let denotes by\n",
    "+ $r^k$ the intensity of the flow of user entering in $o^k$ and exiting in \n",
    "$d^k$;\n",
    "+ $\\mathcal{P}_k$ the set of all simple (i.e. \n",
    "without cycle) path form $o^k$ to $d^k$, and by $\\mathcal{P}=\\bigcup_{k=1}^K \n",
    "\\mathcal{P}_k$;\n",
    "+ $f_p$ the flux of user taking path $p \\in \\mathcal{P}$;\n",
    "+ $f = \\{f_p\\}_{p\\in\\mathcal{P}}$ the vector of path-flux;\n",
    "+ $x_e$ the flux of user taking the edge $e \\in E$;\n",
    "+ $x=\\{x_e\\}_{e\\in E}$ the vector of edge-flux;\n",
    "+ $\\ell_e : \\mathbb{R} \\to \\mathbb{R}^+$ the cost incurred by a given user \n",
    "to take arc \n",
    "$a$;\n",
    "+ $L_e(x_e) := \\int_0^{x_e}\\ell_e(u)du$.\n"
   ]
  },
  {
   "cell_type": "markdown",
   "metadata": {},
   "source": [
    "Minimizing the total cost of the system is an optimization problem that reads\n",
    "\n",
    "\n",
    "\\begin{align}\n",
    "(P^{SO}) \\quad \\min_{x,f} \\quad & \\sum_{e\\in E} x_e \\ell_e(x_e) \\\\\n",
    " s.t. \\quad & r_k = \\sum_{p\\in\\mathcal{P}_k}f_p & k = 1..K \n",
    "\\label{cst:flux-spread}\\\\\n",
    " & x_e = \\sum_{p \\ni e} f_p & e \\in E \\label{cst:xa-def}\\\\\n",
    " & f_p \\geq 0 & p \\in \\mathcal{P}\n",
    "\\end{align}\n",
    "\n",
    "Where the first constraint ensure that the flux going from $o^k$ \n",
    "to $d^k$ is spread among the different possible paths \n",
    "and the second constraint is the definition of $x_a$ as the sum of the \n",
    "users taking the different path containing arc $a$."
   ]
  },
  {
   "cell_type": "markdown",
   "metadata": {},
   "source": [
    "Recall that if $\\ell_e$ is non-decreasing we can guarantee that $f$ is a user \n",
    "equilibrium (cf course) if and only if it is a solution of\n",
    "\n",
    "\\begin{align}\n",
    "(P^{UE})  \\min_{x,f} \\quad & \\sum_{e\\in E}L_e(x_e) \\\\\n",
    " s.t. \\quad & r_k = \\sum_{p\\in\\mathcal{P}_k}f_p & k \\in 1..K\\\\\n",
    " & x_e = \\sum_{p \\ni e} f_p & e \\in E \\\\\n",
    " & f_p \\geq 0 & p \\in \\mathcal{P}\n",
    "\\end{align}\n",
    "where the only difference with $(P^{SO})$ is the \n",
    "objective function."
   ]
  },
  {
   "cell_type": "markdown",
   "metadata": {},
   "source": [
    "### Question 1 \n",
    "Prove that if for all arc $\\ell_e$ is constant then social optimum and \n",
    "user-equilibrium are equivalent."
   ]
  },
  {
   "cell_type": "code",
   "execution_count": null,
   "metadata": {},
   "outputs": [],
   "source": []
  },
  {
   "cell_type": "markdown",
   "metadata": {},
   "source": [
    "## 2 Reformulating the problem\n",
    "\n",
    "A complete graph $(V,E)$ is a graph such that for all couple of vertices\n",
    "$(v_1,v_2)$ there exists an arc with origin $v_1$ and destination $v_2$.\n",
    "\n",
    "### Question 2\n",
    "\n",
    "Consider a complete directed graph of $n$ nodes with $1$ origin and $1$ \n",
    "destination. What is the dimension of the vector $f$ ? of $x$ ? So how many \n",
    "variables and constraints (except positivity constraints) is there for the user \n",
    "equilibrium (or the social optimum) problem ?"
   ]
  },
  {
   "cell_type": "code",
   "execution_count": null,
   "metadata": {},
   "outputs": [],
   "source": []
  },
  {
   "cell_type": "markdown",
   "metadata": {},
   "source": [
    "### Question 3\n",
    "\n",
    "Rewrite both $(P^{(UE)})$ and $(P^{(SO)})$ using only vector $f$."
   ]
  },
  {
   "cell_type": "code",
   "execution_count": null,
   "metadata": {},
   "outputs": [],
   "source": []
  },
  {
   "cell_type": "markdown",
   "metadata": {},
   "source": [
    "### Question 4\n",
    "\n",
    "Assuming that there is only one origin and destination (i.e. $K=1$)\n",
    " Rewrite both problems using only vector $x$."
   ]
  },
  {
   "cell_type": "code",
   "execution_count": null,
   "metadata": {},
   "outputs": [],
   "source": []
  },
  {
   "cell_type": "markdown",
   "metadata": {},
   "source": [
    "### Question 5\n",
    "\n",
    "Let $N$ be a matrix with $|V|$ line and $|A|$ column, such that $N_{od}$ \n",
    "equal to $-1$ if the origin of $e$ is $o$, $+1$ if the destination of $e$ is \n",
    "$d$ and $0$ elsewhere. Thus each column of $N$ corresponds to an arc and \n",
    "indicate its origin with a $-1$ and its destination with a $+1$.\n",
    "\n",
    "If $K=1$, what is the interpretation of each coordinate of the vector $Nx$ ? \n",
    "Deduce a more condensed presentation of both problems using only vector $x$."
   ]
  },
  {
   "cell_type": "code",
   "execution_count": null,
   "metadata": {},
   "outputs": [],
   "source": []
  },
  {
   "cell_type": "markdown",
   "metadata": {},
   "source": [
    "## Setting up the optimization problem in Julia\n",
    "\n",
    "\n",
    "We are going to install some package that are required for the practical session. If running on JuliaBox you should install through its interface directly."
   ]
  },
  {
   "cell_type": "markdown",
   "metadata": {},
   "source": [
    "We now set up the graph we want to study, which is the classical Braess example."
   ]
  },
  {
   "cell_type": "code",
   "execution_count": 3,
   "metadata": {},
   "outputs": [
    {
     "data": {
      "text/plain": [
       "true"
      ]
     },
     "execution_count": 3,
     "metadata": {},
     "output_type": "execute_result"
    }
   ],
   "source": [
    "using LightGraphs, MetaGraphs #Graph Libraries\n",
    "using GraphPlot\n",
    "\n",
    "# Constructing a Directed Graph (with Meta-data) with 4 nodes\n",
    "G = MetaDiGraph(4)\n",
    "\n",
    "# setting the input / output flux\n",
    "set_props!(G,1,Dict(:io=>-1,:x=>0,:y=>0)) # incoming flux of intensity 1 \n",
    "set_props!(G,2,Dict(:io=>0,:x=>1,:y=>1))\n",
    "set_props!(G,3,Dict(:io=>0,:x=>1,:y=>-1))\n",
    "set_props!(G,4,Dict(:io=>1,:x=>2,:y=>0)) # outgoing flux of intensity 1\n",
    "\n",
    "# adding edges with attached metadata\n",
    "add_edge!(G, 1, 2) \n",
    "set_props!(G, 1, 2,Dict(:a=>1., :b => 0, :idx => 1)) # the cost of edge 1 -> 2 is a x + b = x \n",
    "\n",
    "add_edge!(G, 1, 3)\n",
    "set_props!(G, 1, 3, Dict(:a=>0., :b => 1, :idx => 2))#idx stands for the index corresponding to the edge-flow in the x vector\n",
    "\n",
    "add_edge!(G, 2, 4)\n",
    "set_props!(G, 2, 4, Dict(:a=>0., :b => 1, :idx => 3))\n",
    "\n",
    "add_edge!(G, 3, 4)\n",
    "set_props!(G, 3, 4, Dict(:a=>1, :b => 0, :idx => 4))"
   ]
  },
  {
   "cell_type": "code",
   "execution_count": 4,
   "metadata": {},
   "outputs": [
    {
     "data": {
      "image/png": "[encoded data removed]",
      "text/plain": [
       "Figure(PyObject <Figure size 640x480 with 1 Axes>)"
      ]
     },
     "metadata": {},
     "output_type": "display_data"
    }
   ],
   "source": [
    "#This function represent a Graph\n",
    "function plot_graph(G,plot_edges = false, plot_vertices = false)\n",
    "    posx = zeros(nv(G))\n",
    "    posy = zeros(nv(G))\n",
    "    for v in 1:nv(G)\n",
    "        posx[v] = get_prop(G,v,:x)\n",
    "        posy[v] = get_prop(G,v,:y)\n",
    "        if plot_vertices\n",
    "            text(posx[v],posy[v],v)\n",
    "        end\n",
    "    end\n",
    "    scatter(posx, posy, s=50) # plotting edges\n",
    "    \n",
    "    for e in edges(G) #edge s -> t\n",
    "        x_s,y_s = posx[src(e)], posy[src(e)]\n",
    "        x_t,y_t = posx[dst(e)], posy[dst(e)]\n",
    "        arrow(x_s, y_s, x_t - x_s, y_t - y_s,\n",
    "            head_width=0.05, length_includes_head=true)\n",
    "        if plot_edges\n",
    "            δ_x, δ_y = 0.05.*(y_s-y_t , x_t - x_s)\n",
    "            text(0.5*x_s+0.5*x_t + δ_x, 0.5*y_s+0.5*y_t + δ_y, get_prop(G,e,:idx)) # edges number\n",
    "        end\n",
    "    end\n",
    "end\n",
    "plot_graph(G,true,true)"
   ]
  },
  {
   "cell_type": "code",
   "execution_count": 5,
   "metadata": {},
   "outputs": [],
   "source": [
    "# Matrix representation of conservation law :: Nx = io\n",
    "io = [get_prop(G,i,:io) for i=1:nv(G)]\n",
    "\n",
    "N = zeros(Int,(nv(G),ne(G)))\n",
    "for e in edges(G)\n",
    "    j = get_prop(G,e,:idx)\n",
    "    N[src(e),j] = -1 \n",
    "    N[dst(e),j] = 1\n",
    "end"
   ]
  },
  {
   "cell_type": "markdown",
   "metadata": {},
   "source": [
    "## Computing the price of anarchy\n",
    "\n",
    "Define $C(x)=\\sum_{a\\in A}x_a \\ell_a(x_a)$ the price associated with the \n",
    "admissible flux $x$. We denote by $x^{UE}$ the user equilibrium, and $x^{SO}$\n",
    "the social optimum. The price of anarchy is by definition \n",
    "$$PoA = \\frac{C(x^{UE})}{C(x^{SO})} \\geq 1 .$$"
   ]
  },
  {
   "cell_type": "code",
   "execution_count": 6,
   "metadata": {},
   "outputs": [
    {
     "name": "stdout",
     "output_type": "stream",
     "text": [
      "\n",
      "******************************************************************************\n",
      "This program contains Ipopt, a library for large-scale nonlinear optimization.\n",
      " Ipopt is released as open source code under the Eclipse Public License (EPL).\n",
      "         For more information visit http://projects.coin-or.org/Ipopt\n",
      "******************************************************************************\n",
      "\n"
     ]
    },
    {
     "data": {
      "text/plain": [
       "1.499999999999985"
      ]
     },
     "execution_count": 6,
     "metadata": {},
     "output_type": "execute_result"
    }
   ],
   "source": [
    "### Computing Social Optimum for graph G\n",
    "function SO(G,display = false)\n",
    "    # Setting up the optimization model\n",
    "    m_so = Model(solver=IpoptSolver(print_level=0))\n",
    "    @variable(m_so,x_so[1:ne(G)] >= 0)    # (non-negative) arc-intensity\n",
    "    @variable(m_so,cost_so[1:ne(G)]) # cost by edge\n",
    "    @constraint(m_so,N*x_so .== io)       # Conservation law\n",
    "    \n",
    "\n",
    "    # Defining social optimum cost \n",
    "    for e in edges(G)\n",
    "        idx = get_prop(G,e,:idx)   # getting index of edge \n",
    "        a = get_prop(G,e,:a)       # get coefficient a of the cost function\n",
    "        b = get_prop(G,e,:b)       # get coefficient b of the cost function\n",
    "        @NLconstraint(m_so,cost_so[idx] == a*x_so[idx]^2 + b*x_so[idx]) \n",
    "    end\n",
    "    @NLobjective(m_so,Min,sum(cost_so[idx] for idx=1:ne(G)))\n",
    "\n",
    "    # Solving the optimisation problem\n",
    "    solve(m_so)\n",
    "     \n",
    "    if display\n",
    "        # Printing the computed intensity on all edges\n",
    "        for e in edges(G)\n",
    "            print(e)\n",
    "            print(\" has intensity \")\n",
    "            println(round(getvalue(x_so[get_prop(G,e,:idx)]),2))\n",
    "        end\n",
    "    end\n",
    "    \n",
    "    return getobjectivevalue(m_so)  # return the total cost of the social optimum\n",
    "end\n",
    "SO(G)"
   ]
  },
  {
   "cell_type": "markdown",
   "metadata": {},
   "source": [
    "### Question 6\n",
    "\n",
    "From the function computing the social optimum, define a function computing the user equilibrium. \n",
    "\n",
    "Deduce the price of anarchy of this network. Comment the solution."
   ]
  },
  {
   "cell_type": "code",
   "execution_count": null,
   "metadata": {},
   "outputs": [],
   "source": []
  },
  {
   "cell_type": "markdown",
   "metadata": {},
   "source": [
    "### Question 7\n",
    "\n",
    "Add one edge form node $1$ to $2$ with null cost. Compute the price of anarchy.\n",
    "\n",
    "Add one edge form node $2$ to $1$ with null cost. Compute the price of anarchy.\n",
    "\n",
    "Add both edges. Compute the price of anarchy.\n",
    "\n",
    "Look at obtained intensities, and comment the result."
   ]
  },
  {
   "cell_type": "code",
   "execution_count": null,
   "metadata": {},
   "outputs": [],
   "source": []
  },
  {
   "cell_type": "markdown",
   "metadata": {},
   "source": [
    "### Question 8\n",
    "\n",
    "In the previous graph modify the constant cost functions equal to $1$\n",
    "into cost of the form $1+0.5x$. What do you observe on optimal solutions\n",
    "$x^{UE}$ and $x^{S0}$ ? Comment."
   ]
  },
  {
   "cell_type": "code",
   "execution_count": null,
   "metadata": {},
   "outputs": [],
   "source": []
  },
  {
   "cell_type": "markdown",
   "metadata": {},
   "source": [
    "### Question 9\n",
    "\n",
    "Choose random affine latency on each arc, the coefficients being chosen uniformly on\n",
    "$[0,1]$ (using rand()). Plot an histogram of the price of anarchy over\n",
    "$100$ realization. What result from the course do we observe ?"
   ]
  },
  {
   "cell_type": "code",
   "execution_count": 7,
   "metadata": {},
   "outputs": [
    {
     "data": {
      "image/png": "[encoded data removed]",
      "text/plain": [
       "Figure(PyObject <Figure size 640x480 with 1 Axes>)"
      ]
     },
     "metadata": {},
     "output_type": "display_data"
    }
   ],
   "source": [
    "# Plotting an histogram\n",
    "x = vec(1:100)\n",
    "y = rand(100)\n",
    "PyPlot.plt[:hist](y, bins=20, edgecolor=\"k\");"
   ]
  },
  {
   "cell_type": "markdown",
   "metadata": {},
   "source": [
    "### Question 10\n",
    "\n",
    "Adapt the code such that each arc has now a cost function of the form\n",
    "$\\ell_e(x_e) = t_e(1+0.15*(x_e/c_e)^4)$.\n",
    "\n",
    " Plot an histogram of the price of anarchy over $100$ realization of $t_e$ and $c_e$. Comment."
   ]
  },
  {
   "cell_type": "code",
   "execution_count": null,
   "metadata": {},
   "outputs": [],
   "source": []
  },
  {
   "cell_type": "markdown",
   "metadata": {},
   "source": [
    "## More complex graphs\n",
    "\n",
    "### Question 11\n",
    "\n",
    "Construct a graph with $6$ nodes. Define linear costs on each arc. \n",
    "Compute the price of anarchy."
   ]
  },
  {
   "cell_type": "code",
   "execution_count": null,
   "metadata": {},
   "outputs": [],
   "source": []
  },
  {
   "cell_type": "markdown",
   "metadata": {},
   "source": [
    "### Question 12 \n",
    "\n",
    "On your new graph test if it is possible to add an arc with null cost\n",
    "that increase the cost of the user equilibrium."
   ]
  },
  {
   "cell_type": "code",
   "execution_count": null,
   "metadata": {},
   "outputs": [],
   "source": []
  },
  {
   "cell_type": "markdown",
   "metadata": {},
   "source": [
    "### Question 13\n",
    "\n",
    "By introducing edge-flux variables $x^1$ and $x^2$ rewrite\n",
    "the user equilibrium and social optimum problems in the case\n",
    "where $K=2$. \n",
    "\n",
    "Construct an example on your previous graph and compute the price\n",
    "of anarchy."
   ]
  },
  {
   "cell_type": "code",
   "execution_count": null,
   "metadata": {},
   "outputs": [],
   "source": []
  }
 ],
 "metadata": {
  "kernelspec": {
   "display_name": "Julia 1.0.3",
   "language": "julia",
   "name": "julia-1.0"
  },
  "language_info": {
   "file_extension": ".jl",
   "mimetype": "application/julia",
   "name": "julia",
   "version": "1.0.3"
  }
 },
 "nbformat": 4,
 "nbformat_minor": 2
}
